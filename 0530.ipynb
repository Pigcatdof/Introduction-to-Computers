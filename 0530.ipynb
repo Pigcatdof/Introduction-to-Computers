{
  "nbformat": 4,
  "nbformat_minor": 0,
  "metadata": {
    "colab": {
      "name": "0530.ipynb",
      "provenance": [],
      "authorship_tag": "ABX9TyMzsYP3g0xmCpJfBa3A/F3D",
      "include_colab_link": true
    },
    "kernelspec": {
      "name": "python3",
      "display_name": "Python 3"
    },
    "language_info": {
      "name": "python"
    }
  },
  "cells": [
    {
      "cell_type": "markdown",
      "metadata": {
        "id": "view-in-github",
        "colab_type": "text"
      },
      "source": [
        "<a href=\"https://colab.research.google.com/github/Pigcatdof/Introduction-to-Computers/blob/main/0530.ipynb\" target=\"_parent\"><img src=\"https://colab.research.google.com/assets/colab-badge.svg\" alt=\"Open In Colab\"/></a>"
      ]
    },
    {
      "cell_type": "code",
      "execution_count": null,
      "metadata": {
        "colab": {
          "base_uri": "https://localhost:8080/"
        },
        "id": "YfJ6XGYdEwKB",
        "outputId": "54ad76df-d48a-4d0b-b596-59ac2f80d868"
      },
      "outputs": [
        {
          "output_type": "stream",
          "name": "stdout",
          "text": [
            "2*1= 2   2*2= 4   2*3= 6   2*4= 8   2*5=10   2*6=12   2*7=14   2*8=16   2*9=18   \n",
            "3*1= 3   3*2= 6   3*3= 9   3*4=12   3*5=15   3*6=18   3*7=21   3*8=24   3*9=27   \n",
            "4*1= 4   4*2= 8   4*3=12   4*4=16   4*5=20   4*6=24   4*7=28   4*8=32   4*9=36   \n",
            "5*1= 5   5*2=10   5*3=15   5*4=20   5*5=25   5*6=30   5*7=35   5*8=40   5*9=45   \n",
            "6*1= 6   6*2=12   6*3=18   6*4=24   6*5=30   6*6=36   6*7=42   6*8=48   6*9=54   \n",
            "7*1= 7   7*2=14   7*3=21   7*4=28   7*5=35   7*6=42   7*7=49   7*8=56   7*9=63   \n",
            "8*1= 8   8*2=16   8*3=24   8*4=32   8*5=40   8*6=48   8*7=56   8*8=64   8*9=72   \n",
            "9*1= 9   9*2=18   9*3=27   9*4=36   9*5=45   9*6=54   9*7=63   9*8=72   9*9=81   \n"
          ]
        }
      ],
      "source": [
        "for i in range(2,10):\n",
        "    for j in range(1,10):\n",
        "        product=i*j\n",
        "        print(\"%d*%d=%2d   \" % (i, j, product), end=\"\")\n",
        "    print()"
      ]
    },
    {
      "cell_type": "code",
      "source": [
        "a=int(input('請輸入a的值'))\n",
        "b=int(input('請輸入b的值'))\n",
        "\n",
        "maxno=a*b\n",
        "for i in range(1,maxno+1):\n",
        "  if(i%a==0 and i%b==0):\n",
        "    break\n",
        "print('%d和 %d的最小公倍數=%d' %(a,b,i))\n"
      ],
      "metadata": {
        "colab": {
          "base_uri": "https://localhost:8080/"
        },
        "id": "YDu2mf1sFBK1",
        "outputId": "69455e22-0f89-42c0-a180-a12e05ec00ac"
      },
      "execution_count": null,
      "outputs": [
        {
          "output_type": "stream",
          "name": "stdout",
          "text": [
            "請輸入a的值4\n",
            "請輸入b的值6\n",
            "4和 6的最小公倍數=12\n"
          ]
        }
      ]
    },
    {
      "cell_type": "code",
      "source": [
        "n=int(input('請輸入正整數:'))\n",
        "for i in range(1,n+1):\n",
        "  if i % 5==0:\n",
        "    continue\n",
        "  print(i,end=' ')\n"
      ],
      "metadata": {
        "colab": {
          "base_uri": "https://localhost:8080/"
        },
        "id": "a2EL9PHoG6gs",
        "outputId": "f2abd71a-7b06-417a-a7f2-251942dce41a"
      },
      "execution_count": null,
      "outputs": [
        {
          "output_type": "stream",
          "name": "stdout",
          "text": [
            "請輸入正整數:21\n",
            "1 2 3 4 6 7 8 9 11 12 13 14 16 17 18 19 21 "
          ]
        }
      ]
    },
    {
      "cell_type": "code",
      "source": [
        "total=n=0\n",
        "while(n<=10):\n",
        "  total +=n\n",
        "  n +=1\n",
        "print(total)"
      ],
      "metadata": {
        "colab": {
          "base_uri": "https://localhost:8080/"
        },
        "id": "tqoE3TmIIjHc",
        "outputId": "a09d6189-b459-40c1-b44c-14f44aeac14d"
      },
      "execution_count": null,
      "outputs": [
        {
          "output_type": "stream",
          "name": "stdout",
          "text": [
            "55\n"
          ]
        }
      ]
    },
    {
      "cell_type": "code",
      "source": [
        "total=i=1\n",
        "n=int(input('請輸入正整數n的值'))\n",
        "while i<=n:\n",
        "  total *= i\n",
        "  i+=1\n",
        "print('%d!=%d'%(n,total))"
      ],
      "metadata": {
        "colab": {
          "base_uri": "https://localhost:8080/"
        },
        "id": "tmOB1T03JSYo",
        "outputId": "cecadc35-7219-42ce-b264-07ece5d0d07e"
      },
      "execution_count": null,
      "outputs": [
        {
          "output_type": "stream",
          "name": "stdout",
          "text": [
            "請輸入正整數n的值5\n",
            "5!=120\n"
          ]
        }
      ]
    },
    {
      "cell_type": "code",
      "source": [
        "a=0\n",
        "total=i=0\n",
        "n=int(input('請輸入正整數n的值'))\n",
        "while i<=50:\n",
        "  total += i\n",
        "  i+=2\n",
        "print('%d-%d的偶數和結果是=%d' %(a,n,total))"
      ],
      "metadata": {
        "colab": {
          "base_uri": "https://localhost:8080/"
        },
        "id": "z0Y3Jt0uMNzQ",
        "outputId": "42cc7159-940b-4943-967c-0dbb99631203"
      },
      "execution_count": null,
      "outputs": [
        {
          "output_type": "stream",
          "name": "stdout",
          "text": [
            "請輸入正整數n的值50\n",
            "0-50的偶數和結果是=650\n"
          ]
        }
      ]
    },
    {
      "cell_type": "code",
      "source": [
        "a=0\n",
        "total=i=1\n",
        "n=int(input('請輸入正整數n的值'))\n",
        "while i<=50:\n",
        "  total += i\n",
        "  i+=2\n",
        "print('%d-%d的奇數和結果是=%d' %(a,n,total-1))"
      ],
      "metadata": {
        "colab": {
          "base_uri": "https://localhost:8080/"
        },
        "id": "wf1eaFaEMr0g",
        "outputId": "a04d094a-0b14-4c4d-d086-b05baf6a8780"
      },
      "execution_count": null,
      "outputs": [
        {
          "output_type": "stream",
          "name": "stdout",
          "text": [
            "請輸入正整數n的值50\n",
            "0-50的奇數和結果是=625\n"
          ]
        }
      ]
    },
    {
      "cell_type": "code",
      "source": [
        "n=int(input('請輸入正整數:'))\n",
        "for i in range(n):\n",
        " print((n-i)*'*')"
      ],
      "metadata": {
        "colab": {
          "base_uri": "https://localhost:8080/"
        },
        "id": "dVNevO9lQy2h",
        "outputId": "3ab426e2-3d19-4caa-8d68-82de623bc8e4"
      },
      "execution_count": null,
      "outputs": [
        {
          "output_type": "stream",
          "name": "stdout",
          "text": [
            "請輸入正整數:7\n",
            "*******\n",
            "******\n",
            "*****\n",
            "****\n",
            "***\n",
            "**\n",
            "*\n"
          ]
        }
      ]
    },
    {
      "cell_type": "code",
      "source": [
        "n=int(input('請輸入正整數:'))\n",
        "for i in range(n):\n",
        " print((n-i)*'*')"
      ],
      "metadata": {
        "colab": {
          "base_uri": "https://localhost:8080/"
        },
        "id": "yDHYINAzW8V7",
        "outputId": "2e787572-3b4b-4b10-9f95-474d0421468e"
      },
      "execution_count": null,
      "outputs": [
        {
          "output_type": "stream",
          "name": "stdout",
          "text": [
            "請輸入正整數:5\n",
            "*****\n",
            "****\n",
            "***\n",
            "**\n",
            "*\n"
          ]
        }
      ]
    },
    {
      "cell_type": "code",
      "source": [
        "sum = 0\n",
        "for i in range(1,101):\n",
        "    if i % 3 == 0 or i % 7 ==0:\n",
        "        sum += i\n",
        "print(\"數值1~100中，所有是3或是7倍數的數之總和=\" +str(sum))"
      ],
      "metadata": {
        "colab": {
          "base_uri": "https://localhost:8080/"
        },
        "id": "Jq4VKtlNX-nD",
        "outputId": "0d9b1f58-9e73-433b-ca8c-3d54f8843e0c"
      },
      "execution_count": null,
      "outputs": [
        {
          "output_type": "stream",
          "name": "stdout",
          "text": [
            "數值1~100中，所有是3或是7倍數的數之總和=2208\n"
          ]
        }
      ]
    },
    {
      "cell_type": "code",
      "source": [
        "n = int(input(\"請輸入正整數: \"))\n",
        "li = list()\n",
        "i=1\n",
        "while i <= n:\n",
        "    if n%i ==0:\n",
        "        li.append(i)\n",
        "    i=i+1\n",
        "print(n,\"的因數有\",end='')\n",
        "for j in range(len(li)):\n",
        "    print(li[j],end=\" \")\n",
        "print(\"\")\n",
        "if len(li) > 2:\n",
        "    print(n,\"不是質數\")\n",
        "elif n == 1:\n",
        "    print(\"1不是質數\")\n",
        "else:\n",
        "    print(n,\"是質數\")"
      ],
      "metadata": {
        "colab": {
          "base_uri": "https://localhost:8080/"
        },
        "id": "tgtu18qEZD1u",
        "outputId": "2db3e332-e1be-4be1-fffc-410ba266a1e4"
      },
      "execution_count": 1,
      "outputs": [
        {
          "output_type": "stream",
          "name": "stdout",
          "text": [
            "請輸入正整數: 11\n",
            "11 的因數有1 11 \n",
            "11 是質數\n"
          ]
        }
      ]
    }
  ]
}
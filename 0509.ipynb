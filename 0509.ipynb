{
  "nbformat": 4,
  "nbformat_minor": 0,
  "metadata": {
    "colab": {
      "name": "0509.ipynb",
      "provenance": [],
      "authorship_tag": "ABX9TyMyfQj0/nfRbMR650zFgtDO",
      "include_colab_link": true
    },
    "kernelspec": {
      "name": "python3",
      "display_name": "Python 3"
    },
    "language_info": {
      "name": "python"
    }
  },
  "cells": [
    {
      "cell_type": "markdown",
      "metadata": {
        "id": "view-in-github",
        "colab_type": "text"
      },
      "source": [
        "<a href=\"https://colab.research.google.com/github/Pigcatdof/Introduction-to-Computers/blob/main/0509.ipynb\" target=\"_parent\"><img src=\"https://colab.research.google.com/assets/colab-badge.svg\" alt=\"Open In Colab\"/></a>"
      ]
    },
    {
      "cell_type": "code",
      "execution_count": 1,
      "metadata": {
        "colab": {
          "base_uri": "https://localhost:8080/"
        },
        "id": "K4P-csF8Py8d",
        "outputId": "fa47fff4-cf74-4a2b-a0c4-4e7c6c3564c8"
      },
      "outputs": [
        {
          "output_type": "stream",
          "name": "stdout",
          "text": [
            "123\n"
          ]
        }
      ],
      "source": [
        "print(\"123\")"
      ]
    },
    {
      "cell_type": "code",
      "source": [
        "temp=float(input(\"請輸入你的體溫\"))\n",
        "if temp >=37.5:\n",
        "    print(\"體溫過高！\")\n",
        "elif temp >= 37 and temp <37.4:\n",
        "    print(\"體溫略高！\")\n",
        "else:\n",
        "    print(\"體溫異常，請重新測量！\")"
      ],
      "metadata": {
        "colab": {
          "base_uri": "https://localhost:8080/"
        },
        "id": "DCO9YLTbP4_U",
        "outputId": "f574ed5e-df0c-4f39-dec3-7219b70903da"
      },
      "execution_count": 2,
      "outputs": [
        {
          "output_type": "stream",
          "name": "stdout",
          "text": [
            "請輸入你的體溫36\n",
            "體溫異常，請重新測量！\n"
          ]
        }
      ]
    },
    {
      "cell_type": "code",
      "source": [
        "grade=float(input(\"請輸入你的成績\"))\n",
        "if grade >=90:\n",
        "    print(\"A\")\n",
        "elif grade >= 80 and grade < 89:\n",
        "    print(\"b\")\n",
        "elif grade >= 70 and grade < 79:\n",
        "    print(\"C\")\n",
        "elif grade >= 60 and grade < 69:\n",
        "    print(\"D\")\n",
        "else:\n",
        "    print(\"E\")"
      ],
      "metadata": {
        "colab": {
          "base_uri": "https://localhost:8080/"
        },
        "id": "CaA6RW8dP8U3",
        "outputId": "64f7d7fe-7750-4ac2-910a-504726af302c"
      },
      "execution_count": 3,
      "outputs": [
        {
          "output_type": "stream",
          "name": "stdout",
          "text": [
            "請輸入你的成績90\n",
            "A\n"
          ]
        }
      ]
    },
    {
      "cell_type": "code",
      "source": [
        "money=int(input(\"請輸入購物金額\"))\n",
        "if (money >= 10000):\n",
        "  if(money >= 100000):\n",
        "    print(\"八折\",money*0.8, end = \"元\\n\")\n",
        "  elif(money >= 50000):\n",
        "    print(\"八五折\",money*0.85, end = \"元\\n\")\n",
        "  elif(money >= 10000):\n",
        "    print(\"九折\",money*0.9, end = \"元\\n\")\n",
        "else:\n",
        "  print(\"沒打折\",money, end = \"元\\n1\")"
      ],
      "metadata": {
        "colab": {
          "base_uri": "https://localhost:8080/"
        },
        "id": "lOXHVhpkQCMU",
        "outputId": "2e2d97d5-666c-4be5-a9fb-8a4c4ec3a8d9"
      },
      "execution_count": 4,
      "outputs": [
        {
          "output_type": "stream",
          "name": "stdout",
          "text": [
            "請輸入購物金額50000\n",
            "八五折 42500.0元\n"
          ]
        }
      ]
    },
    {
      "cell_type": "code",
      "source": [
        "season=int(input(\"請輸入月份\"))\n",
        "if season >= 3 and season <= 5:\n",
        "  print(\"春天！\")\n",
        "elif season >= 6 and season <= 8:\n",
        "  print(\"夏天！\")\n",
        "elif season >= 9 and season <= 11:\n",
        "  print(\"秋天！\")\n",
        "elif season >= 1 or season >= 2 or season <= 12:\n",
        "  print(\"冬天！\")\n",
        "else:\n",
        "  print(\"不在此範圍內!\")"
      ],
      "metadata": {
        "colab": {
          "base_uri": "https://localhost:8080/"
        },
        "id": "jYhlk6GCQFAa",
        "outputId": "1e21e40e-8cf3-468e-eb6b-326f6d0c8049"
      },
      "execution_count": 5,
      "outputs": [
        {
          "output_type": "stream",
          "name": "stdout",
          "text": [
            "請輸入月份2\n",
            "冬天！\n"
          ]
        }
      ]
    },
    {
      "cell_type": "code",
      "source": [
        "tax=int(input(\"請輸入收入\"))\n",
        "if(tax >= 2000000):\n",
        "    print(\"稅率為0.3\",tax*0.3, end = \"元\\n\")\n",
        "elif(tax >= 1000000):\n",
        "    print(\"稅率為0.21\",tax*0.21, end = \"元\\n\")\n",
        "elif(tax >= 600000):\n",
        "    print(\"稅率為0.13\",tax*0.13, end = \"元\\n\")\n",
        "elif(tax >= 300000):\n",
        "    print(\"稅率為0.06\",tax*0.06, end = \"元\\n\")\n",
        "else:\n",
        "    print(\"不用繳稅\",tax*0, end = \"元\\n\")"
      ],
      "metadata": {
        "colab": {
          "base_uri": "https://localhost:8080/"
        },
        "id": "7e9aH6wMQH9n",
        "outputId": "5855609f-40f8-4172-f1ed-77a36159d137"
      },
      "execution_count": 7,
      "outputs": [
        {
          "output_type": "stream",
          "name": "stdout",
          "text": [
            "請輸入收入2000000\n",
            "稅率為0.3 600000.0元\n"
          ]
        }
      ]
    }
  ]
}